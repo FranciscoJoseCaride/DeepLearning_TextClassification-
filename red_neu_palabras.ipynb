{
 "cells": [
  {
   "cell_type": "code",
   "execution_count": null,
   "metadata": {},
   "outputs": [],
   "source": [
    "import pandas as pd\n",
    "import torch\n",
    "import torch.nn as nn\n",
    "from torchtext.legacy import data\n",
    "import spacy\n",
    "import random\n",
    "#from sklearn.metrics import *\n",
    "import torch.optim as optim\n",
    "import matplotlib.pyplot as plt\n",
    "\n",
    "import warnings\n",
    "warnings.filterwarnings('ignore')\n",
    "torch.backends.cudnn.benchmark = True\n",
    "\n",
    "import numpy as np\n",
    "from sklearn.metrics import accuracy_score, precision_score, recall_score, f1_score, roc_curve, auc, roc_auc_score, confusion_matrix, classification_report\n",
    "import regex"
   ]
  },
  {
   "cell_type": "markdown",
   "metadata": {},
   "source": [
    "Armo un tensor con el corpus de palabras (TEXT) y otro con las etiquetas a predecir (LABEL). El tensor del corpus de palabras tokeniza con el paquete spacy. Separo los datos train y test en 70 - 30"
   ]
  },
  {
   "cell_type": "code",
   "execution_count": null,
   "metadata": {},
   "outputs": [],
   "source": [
    "#modulo pytorch https://torchtext.readthedocs.io/en/latest/data.html levanto y preparo datos data.----\n",
    "\n",
    "SEED = 40\n",
    "torch.manual_seed(SEED)\n",
    "torch.backends.cudnn.deterministic = True \n",
    "# TEXT = data.Field(tokenize='spacy',tokenizer_language='es',batch_first=True,include_lengths=True)\n",
    "TEXT = data.Field(sequential = True,  lower = True, tokenize='spacy',tokenizer_language='es',batch_first=True,include_lengths=True,stop_words=('## your STOP WORDS'))\n",
    "LABEL = data.LabelField(dtype = torch.float,batch_first=True)"
   ]
  },
  {
   "cell_type": "code",
   "execution_count": null,
   "metadata": {},
   "outputs": [],
   "source": [
    "fields = [(None, None), ('text',TEXT),('label', LABEL)]\n",
    "training_data = data.TabularDataset(path = '## your file ## ',format = 'csv',fields = fields,skip_header = True)\n",
    "train_data, valid_data = training_data.split(split_ratio=0.7, random_state = random.seed(SEED))\n",
    "#print(vars(training_data.examples[3]))\n",
    "\n",
    "TEXT.build_vocab(train_data,min_freq=20) #umbral minimo de repticiones\n",
    "LABEL.build_vocab(train_data)\n",
    "\n",
    "device = torch.device('cuda' if torch.cuda.is_available() else 'cpu')  \n",
    "\n",
    "BATCH_SIZE = 30 #Resamplea, le da estocasticidad lo que permite escapar de mínimos locales\n",
    "\n",
    "train_iterator, valid_iterator = data.BucketIterator.splits(\n",
    "    (train_data, valid_data), \n",
    "    batch_size = BATCH_SIZE,\n",
    "    sort_key = lambda x: len(x.text),\n",
    "    sort_within_batch=True,\n",
    "    device = device)\n",
    "\n",
    "#print(\"Size of TEXT vocabulary:\",len(TEXT.vocab)) #tamanio del corpus de palabras\n",
    "#print(\"Size of LABEL vocabulary:\",len(LABEL.vocab)) #estuiquetas posibles\n",
    "#print(TEXT.vocab.freqs.most_common(10)) #palabras mas repetidas\n",
    "#print(TEXT.vocab.stoi) #lista de palabras\n",
    "#print(TEXT.vocab.lookup_indices('supervielle'))\n",
    "#print(TEXT.vocab.itos[0:30])\n",
    "#print(\"Size of TEXT vocabulary:\",len(TEXT.vocab))\n",
    "#print(LABEL.vocab.itos)\n",
    "\n",
    "# Si quiero llevarme el corpus a un DF\n",
    "\n",
    "corpus = TEXT.vocab.itos[:]\n",
    "corpus = pd.DataFrame(corpus,columns=['palabras'])  \n",
    "corpus.to_csv('corpusNN.csv',encoding='utf-8')\n",
    "# df = pd.DataFrame(list(TEXT.vocab.stoi.items()), columns=['palabra', 'rep'])\n",
    "# df.to_csv('para_pipi.csv')\n"
   ]
  },
  {
   "cell_type": "code",
   "execution_count": null,
   "metadata": {},
   "outputs": [],
   "source": [
    "class classifier(nn.Module):\n",
    "    \n",
    "    #Definimos las capas de la red\n",
    "    def __init__(self, vocab_size, embedding_dim, hidden_dim, output_dim, n_layers, \n",
    "                 bidirectional, dropout):\n",
    "        \n",
    "        #Constructor\n",
    "        super().__init__()          \n",
    "         \n",
    "        #Embedding layer https://pytorch.org/docs/stable/generated/torch.nn.Embedding.html\n",
    "        self.embedding = nn.Embedding(vocab_size, embedding_dim)\n",
    "        \n",
    "        #LSTM layer https://pytorch.org/docs/stable/generated/torch.nn.LSTM.html\n",
    "        self.lstm = nn.LSTM(embedding_dim, \n",
    "                           hidden_dim, \n",
    "                           num_layers=n_layers, \n",
    "                           bidirectional=bidirectional, #investigar implicancia del paramtro ##################### \n",
    "                           dropout=dropout,\n",
    "                           batch_first=True)\n",
    "        \n",
    "        #Dense layer https://pytorch.org/docs/stable/generated/torch.nn.Linear.html\n",
    "        self.fc = nn.Linear(hidden_dim * 2, output_dim) \n",
    "        \n",
    "        #Func activación\n",
    "        self.act = nn.Sigmoid()\n",
    "\n",
    "    def forward(self, text, text_lengths):        \n",
    "        embedded = self.embedding(text)\n",
    "        packed_embedded = nn.utils.rnn.pack_padded_sequence(embedded, text_lengths,batch_first=True)\n",
    "        packed_output, (hidden, cell) = self.lstm(packed_embedded)\n",
    "        hidden = torch.cat((hidden[-2,:,:], hidden[-1,:,:]), dim = 1)\n",
    "        dense_outputs=self.fc(hidden)\n",
    "        outputs=self.act(dense_outputs)        \n",
    "        return outputs"
   ]
  },
  {
   "cell_type": "markdown",
   "metadata": {},
   "source": [
    "Arquitectura red"
   ]
  },
  {
   "cell_type": "code",
   "execution_count": null,
   "metadata": {},
   "outputs": [],
   "source": [
    "#Hiperparametros de la red\n",
    "size_of_vocab = len(TEXT.vocab)\n",
    "embedding_dim = 1  #salida capa embeding entrada lstm\n",
    "num_hidden_nodes = 100\n",
    "num_output_nodes = 1\n",
    "num_layers = 10 #capas\n",
    "bidirection = True\n",
    "dropout = 0.3 #Apagas neuronas de forma aleatoria en train, ayuda a evitar overfiting\n",
    "\n",
    "#Instanciamos modelo\n",
    "model = classifier(size_of_vocab, embedding_dim, num_hidden_nodes,num_output_nodes, num_layers, \n",
    "                   bidirectional = True, dropout = dropout)\n",
    "\n",
    "#Arquitectura\n",
    "print(model)"
   ]
  },
  {
   "cell_type": "markdown",
   "metadata": {},
   "source": [
    "Cantidad de parametros"
   ]
  },
  {
   "cell_type": "code",
   "execution_count": null,
   "metadata": {},
   "outputs": [],
   "source": [
    "#Parametros a entrenar\n",
    "def count_parameters(model):\n",
    "    return sum(p.numel() for p in model.parameters() if p.requires_grad)\n",
    "\n",
    "print(f'The model has {count_parameters(model):,} trainable parameters')"
   ]
  },
  {
   "cell_type": "markdown",
   "metadata": {},
   "source": [
    "Optimazier, func perdida y accuaracy"
   ]
  },
  {
   "cell_type": "code",
   "execution_count": null,
   "metadata": {},
   "outputs": [],
   "source": [
    "#Optim y func pérdida\n",
    "optimizer = optim.Adam(model.parameters()) #Version de stochastic gradient descent (surge de la literatura). Learning rate: controla cuánto cambiar el modelo en respuesta al error estimado cada vez que se actualizan los pesos del modelo.\n",
    "#optimizer = optim.SGD(model.parameters(), lr=0.01, momentum=0.9)\n",
    "criterion = nn.BCELoss()\n",
    "\n",
    "#Acc\n",
    "def binary_accuracy(preds, y):\n",
    "    rounded_preds = torch.round(preds)\n",
    "    correct = (rounded_preds == y).float() \n",
    "    acc = correct.sum() / len(correct)\n",
    "    return acc\n",
    "\n",
    "model = model.to(device)\n",
    "criterion = criterion.to(device)"
   ]
  },
  {
   "cell_type": "markdown",
   "metadata": {},
   "source": [
    "Funcion para entrenar"
   ]
  },
  {
   "cell_type": "code",
   "execution_count": null,
   "metadata": {},
   "outputs": [],
   "source": [
    "def train(model, iterator, optimizer, criterion):\n",
    "    \n",
    "    epoch_loss = 0\n",
    "    epoch_acc = 0\n",
    "    \n",
    "    model.train()  \n",
    "    \n",
    "    for batch in iterator:\n",
    "        \n",
    "        optimizer.zero_grad()   \n",
    "        \n",
    "        text, text_lengths = batch.text   \n",
    "        \n",
    "        predictions = model(text, text_lengths).squeeze()  \n",
    "        \n",
    "        loss = criterion(predictions, batch.label)        \n",
    "        \n",
    "        acc = binary_accuracy(predictions, batch.label)   \n",
    "        \n",
    "        loss.backward()       \n",
    "        \n",
    "        optimizer.step()      \n",
    "        \n",
    "        epoch_loss += loss.item()  \n",
    "        epoch_acc += acc.item()    \n",
    "        \n",
    "    return epoch_loss / len(iterator), epoch_acc / len(iterator)"
   ]
  },
  {
   "cell_type": "markdown",
   "metadata": {},
   "source": [
    "Funcion para evaluar (desactiva pesos)"
   ]
  },
  {
   "cell_type": "code",
   "execution_count": null,
   "metadata": {},
   "outputs": [],
   "source": [
    "def evaluate(model, iterator, criterion):\n",
    "    \n",
    "    epoch_loss = 0\n",
    "    epoch_acc = 0\n",
    "\n",
    "    model.eval()\n",
    "\n",
    "    with torch.no_grad():\n",
    "    \n",
    "        for batch in iterator:\n",
    "        \n",
    "            text, text_lengths = batch.text\n",
    "            \n",
    "            predictions = model(text, text_lengths).squeeze()\n",
    "\n",
    "            loss = criterion(predictions, batch.label)\n",
    "            acc = binary_accuracy(predictions, batch.label)\n",
    "\n",
    "            epoch_loss += loss.item()\n",
    "            epoch_acc += acc.item()\n",
    "        \n",
    "    return epoch_loss / len(iterator), epoch_acc / len(iterator)"
   ]
  },
  {
   "cell_type": "markdown",
   "metadata": {},
   "source": [
    "Entrnamieno red"
   ]
  },
  {
   "cell_type": "code",
   "execution_count": null,
   "metadata": {},
   "outputs": [],
   "source": [
    "N_EPOCHS = 100 \n",
    "best_valid_loss = float('inf')\n",
    "iters = []\n",
    "train_losses = []\n",
    "val_losses = []\n",
    "train_accuars = []\n",
    "valid_accuars = []\n",
    "\n",
    "for epoch in range(N_EPOCHS):\n",
    "     \n",
    "    train_loss, train_acc = train(model, train_iterator, optimizer, criterion)\n",
    "    train_losses.append(float(train_loss)) #acumulo perdidas de train\n",
    "    train_accuars.append(float(train_acc)) #acumulo acc train\n",
    "\n",
    "    valid_loss, valid_acc = evaluate(model, valid_iterator, criterion)\n",
    "    val_losses.append(float(valid_loss)) #acumulo perdidas de valid\n",
    "    valid_accuars.append(float(valid_acc)) #acumulo acc val\n",
    "\n",
    "    if valid_loss < best_valid_loss:\n",
    "        best_valid_loss = valid_loss\n",
    "        torch.save(model.state_dict(), 'saved_weights.pt')\n",
    "\n",
    "    if len(val_losses) > 10 and all(valid_loss >= loss for loss in val_losses[-5:]):\n",
    "       print('Stopping early')\n",
    "       break\n",
    "\n",
    "    print(f'epoch {epoch + 1}: Train Loss: {train_loss:.5f}  Valid Loss: {valid_loss:.5f} | Train Acc: {train_acc*100:.2f}%  Valid Acc: {valid_acc*100:.2f}%')"
   ]
  },
  {
   "cell_type": "code",
   "execution_count": null,
   "metadata": {},
   "outputs": [],
   "source": [
    "data_entrenamiento = pd.DataFrame({'train_losses':train_losses})\n",
    "data_entrenamiento['val_losses'] = val_losses\n",
    "data_entrenamiento['train_accuars'] = train_accuars\n",
    "data_entrenamiento['valid_accuars'] = valid_accuars\n",
    "data_del_modelo = data_entrenamiento[-2:-1]\n",
    "data_del_modelo "
   ]
  },
  {
   "cell_type": "code",
   "execution_count": null,
   "metadata": {},
   "outputs": [],
   "source": [
    "plt.figure(figsize=(10,5))\n",
    "plt.title(\"Training and Validation Loss\")\n",
    "plt.plot(val_losses,label=\"valid\")\n",
    "plt.plot(train_losses,label=\"train\")\n",
    "plt.xlabel(\"Epochs\")\n",
    "plt.ylabel(\"Loss\")\n",
    "plt.legend()\n",
    "plt.show()"
   ]
  },
  {
   "cell_type": "code",
   "execution_count": null,
   "metadata": {},
   "outputs": [],
   "source": [
    "plt.figure(figsize=(10,5))\n",
    "plt.title(\"Training and Validation Accuracy\")\n",
    "plt.plot(valid_accuars,label=\"valid\")\n",
    "plt.plot(train_accuars,label=\"train\")\n",
    "plt.xlabel(\"Epochs\")\n",
    "plt.ylabel(\"Accuracy\")\n",
    "plt.legend()\n",
    "plt.show()"
   ]
  },
  {
   "cell_type": "markdown",
   "metadata": {},
   "source": [
    "Predigo sobre todo el dataset. Armo funcion para predecir con modelo entrenado (pesos)"
   ]
  },
  {
   "cell_type": "code",
   "execution_count": null,
   "metadata": {},
   "outputs": [],
   "source": [
    "\n",
    "path='saved_weights.pt'\n",
    "model.load_state_dict(torch.load(path))\n",
    "model.eval()\n",
    "\n",
    "# #inference \n",
    "import spacy\n",
    "nlp = spacy.load('es_core_news_sm') #https://spacy.io/models/es\n",
    "\n",
    "def predict(model, sentence):\n",
    "    tokenized = [tok.text for tok in nlp.tokenizer(sentence)]  #tokenize the sentence \n",
    "    indexed = [TEXT.vocab.stoi[t] for t in tokenized]          #convert to integer sequence\n",
    "    length = [len(indexed)]                                    #compute no. of words\n",
    "    tensor = torch.LongTensor(indexed).to(device)              #convert to tensor\n",
    "    tensor = tensor.unsqueeze(1).T                             #reshape in form of batch,no. of words\n",
    "    length_tensor = torch.LongTensor(length)                   #convert to tensor\n",
    "    prediction = model(tensor, length_tensor)                  #prediction \n",
    "    return prediction.item()  \n",
    "\n",
    "control['Id'] = pd.DataFrame(list(range(len(control))))\n",
    "control = control[['review','label','Id']]\n",
    "\n",
    "clasf_report =  [ predict(model,(t))  for t in control['review']] #Vector de probabilidades en numpy\n",
    "submission_report = pd.DataFrame(list(range(len(control))),columns =['Id'])\n",
    "submission_report['Predicc'] = clasf_report # vector de probabilidades en df\n",
    "control = control.merge(submission_report,on=['Id'])\n",
    "\n",
    "# control['y_pred'] =''\n",
    "# conditions = [\n",
    "#     (control['Predicc'] >= 0.5), #ojo criterio subjetivo mio\n",
    "#     (control['Predicc'] < 0.5) \n",
    "#         ]\n",
    "    \n",
    "# values = [1,0]\n",
    "# control['y_pred'] = np.select(conditions, values)\n",
    "\n",
    "control['y_pred'] = round(control['Predicc'],0)\n",
    "\n",
    "y_true = control['label'].to_numpy()\n",
    "y_pred = control['y_pred'].to_numpy()\n",
    "\n",
    "roc = roc_auc_score(y_true, y_pred)\n",
    "#print(confusion_matrix(y_true, [ predict(model,(t))  for t in control['review']]))\n",
    "print(confusion_matrix(y_true, y_pred))\n",
    "print(classification_report(y_true,y_pred))\n",
    "print('ROC del modelo:', roc)\n",
    "# fpr, tpr, thresholds = roc_curve(y_true,  y_pred)\n",
    "fpr, tpr, thresholds = roc_curve(y_true,  control['Predicc'].to_numpy())\n",
    "plt.figure(figsize=(5,5))\n",
    "plt.plot(fpr, tpr, label='Roc (area = %0.2f)' % roc)\n",
    "plt.plot([0, 1], [0, 1],'r--')\n",
    "plt.xlim([-0.05, 1.05])\n",
    "plt.ylim([-0.05, 1.05])\n",
    "plt.xlabel('False Positive Rate')\n",
    "plt.ylabel('True Positive Rate')\n",
    "plt.title('ROC Curve')\n",
    "plt.legend(loc=\"lower right\")\n",
    "plt.savefig('Roc Red NN')\n",
    "plt.show()"
   ]
  },
  {
   "cell_type": "code",
   "execution_count": null,
   "metadata": {},
   "outputs": [],
   "source": [
    "\n",
    "save_text_train = []\n",
    "save_label_train = []\n",
    "for value in train_data.examples:\n",
    "    save_text_train.append(value.text)\n",
    "    save_label_train.append(value.label)\n",
    "\n",
    "save_train = pd.DataFrame({'text':save_text_train})\n",
    "save_train['text'] = save_train['text'].apply('. '.join)\n",
    "save_train[\"text\"] = save_train[\"text\"].str.replace(r'[^\\w\\s]', \"\",regex=True)\n",
    "save_train['label'] = save_label_train\n",
    "\n",
    "save_text_valid = []\n",
    "save_label_valid = []\n",
    "for value in valid_data.examples:\n",
    "    save_text_valid.append(value.text)\n",
    "    save_label_valid.append(value.label)\n",
    "\n",
    "save_valid = pd.DataFrame({'text':save_text_valid})\n",
    "save_valid['text'] = save_valid['text'].apply('. '.join)\n",
    "save_valid[\"text\"] = save_valid[\"text\"].str.replace(r'[^\\w\\s]', \"\",regex=True)\n",
    "save_valid['label'] = save_label_valid"
   ]
  },
  {
   "cell_type": "code",
   "execution_count": null,
   "metadata": {},
   "outputs": [],
   "source": [
    "clasf_report =  [ predict(model,(t))  for t in save_valid['text']]\n",
    "submission_report = pd.DataFrame(list(range(len(save_valid))),columns =['Id'])\n",
    "submission_report['Predicc'] = clasf_report\n",
    "submission_report['Predicc'] = clasf_report \n",
    "save_valid.reset_index(inplace=True)\n",
    "save_valid = save_valid.merge(submission_report,how='left',left_on='index',right_on='Id')\n",
    "save_valid = save_valid[['text','label','Predicc']]\n",
    "save_valid['y_pred'] = round(save_valid['Predicc'],0)\n",
    "save_valid['label'] = save_valid['label'].astype('int')\n",
    "\n",
    "y_true = save_valid['label'].to_numpy()\n",
    "y_pred = save_valid['y_pred'].to_numpy()\n",
    "\n",
    "roc = roc_auc_score(y_true, y_pred)\n",
    "print(confusion_matrix(y_true, y_pred))\n",
    "print(classification_report(y_true,y_pred))\n",
    "print('ROC del modelo:', roc)\n",
    "fpr, tpr, thresholds = roc_curve(y_true,  save_valid['Predicc'].to_numpy())\n",
    "plt.figure(figsize=(5,5))\n",
    "plt.plot(fpr, tpr, label='Roc (area = %0.2f)' % roc)\n",
    "plt.plot([0, 1], [0, 1],'r--')\n",
    "plt.xlim([-0.05, 1.05])\n",
    "plt.ylim([-0.05, 1.05])\n",
    "plt.xlabel('False Positive Rate')\n",
    "plt.ylabel('True Positive Rate')\n",
    "plt.title('ROC Curve')\n",
    "plt.legend(loc=\"lower right\")\n",
    "plt.savefig('Roc Red NN')\n",
    "plt.show()"
   ]
  },
  {
   "cell_type": "code",
   "execution_count": null,
   "metadata": {},
   "outputs": [],
   "source": [
    "save_valid['label'].value_counts()"
   ]
  },
  {
   "cell_type": "code",
   "execution_count": null,
   "metadata": {},
   "outputs": [],
   "source": [
    "save_valid['y_pred'].value_counts()"
   ]
  },
  {
   "cell_type": "code",
   "execution_count": null,
   "metadata": {},
   "outputs": [],
   "source": [
    "clasf_report =  [ predict(model,(t))  for t in save_train['text']]\n",
    "submission_report = pd.DataFrame(list(range(len(save_train))),columns =['Id'])\n",
    "submission_report['Predicc'] = clasf_report\n",
    "submission_report['Predicc'] = clasf_report \n",
    "save_train.reset_index(inplace=True)\n",
    "save_train = save_train.merge(submission_report,how='left',left_on='index',right_on='Id')\n",
    "save_train = save_train[['text','label','Predicc']]\n",
    "save_train['y_pred'] = round(save_train['Predicc'],0)\n",
    "save_train['label'] = save_train['label'].astype('int')\n",
    "\n",
    "y_true = save_train['label'].to_numpy()\n",
    "y_pred = save_train['y_pred'].to_numpy()\n",
    "\n",
    "roc = roc_auc_score(y_true, y_pred)\n",
    "print(confusion_matrix(y_true, y_pred))\n",
    "print(classification_report(y_true,y_pred))\n",
    "print('ROC del modelo:', roc)\n",
    "fpr, tpr, thresholds = roc_curve(y_true,  save_train['Predicc'].to_numpy())\n",
    "plt.figure(figsize=(5,5))\n",
    "plt.plot(fpr, tpr, label='Roc (area = %0.2f)' % roc)\n",
    "plt.plot([0, 1], [0, 1],'r--')\n",
    "plt.xlim([-0.05, 1.05])\n",
    "plt.ylim([-0.05, 1.05])\n",
    "plt.xlabel('False Positive Rate')\n",
    "plt.ylabel('True Positive Rate')\n",
    "plt.title('ROC Curve')\n",
    "plt.legend(loc=\"lower right\")\n",
    "plt.savefig('Roc Red NN')\n",
    "plt.show()\n"
   ]
  },
  {
   "cell_type": "code",
   "execution_count": null,
   "metadata": {},
   "outputs": [],
   "source": [
    "save_train['label'].value_counts()"
   ]
  },
  {
   "cell_type": "code",
   "execution_count": null,
   "metadata": {},
   "outputs": [],
   "source": [
    "save_train['y_pred'].value_counts()"
   ]
  }
 ],
 "metadata": {
  "kernelspec": {
   "display_name": "Python 3.9.13 ('tesis_nn1')",
   "language": "python",
   "name": "python3"
  },
  "language_info": {
   "codemirror_mode": {
    "name": "ipython",
    "version": 3
   },
   "file_extension": ".py",
   "mimetype": "text/x-python",
   "name": "python",
   "nbconvert_exporter": "python",
   "pygments_lexer": "ipython3",
   "version": "3.9.13"
  },
  "orig_nbformat": 4,
  "vscode": {
   "interpreter": {
    "hash": "caa02ebb44b4b927778e712429e2890ae88f29127004a1e9117ac83ac828fdb1"
   }
  }
 },
 "nbformat": 4,
 "nbformat_minor": 2
}
